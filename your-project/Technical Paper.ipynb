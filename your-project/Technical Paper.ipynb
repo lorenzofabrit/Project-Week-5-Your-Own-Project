{
 "cells": [
  {
   "cell_type": "markdown",
   "metadata": {},
   "source": [
    "Technical Paper\n",
    "\n",
    "For my project, I decided to analyse the development of global CO2 emissions over the past 50 years, while also looking at the increase in renewable energy sources. To do this, I found many used datasets on the World Bank's page concerning energy usage per capita, emissions, population growth and renewable energy resources. Next in order to be able to get a better overview of trends, I grouped countries by their economic development index, into groups such as OECD, less developed countries and least developed countries. This enable me to identify trends for these groups and attempt to make predictions of how developments concernign emissions might unfold. \n",
    "Finally, I performed my research queries using pandas and plotted them with the help of Tableau, in order to create a coherent presentation to show to my classmates. "
   ]
  }
 ],
 "metadata": {
  "kernelspec": {
   "display_name": "Python 3",
   "language": "python",
   "name": "python3"
  },
  "language_info": {
   "codemirror_mode": {
    "name": "ipython",
    "version": 3
   },
   "file_extension": ".py",
   "mimetype": "text/x-python",
   "name": "python",
   "nbconvert_exporter": "python",
   "pygments_lexer": "ipython3",
   "version": "3.7.4"
  }
 },
 "nbformat": 4,
 "nbformat_minor": 2
}
